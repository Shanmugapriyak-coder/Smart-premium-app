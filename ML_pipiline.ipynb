{
 "cells": [
  {
   "cell_type": "code",
   "execution_count": 1,
   "metadata": {},
   "outputs": [],
   "source": [
    "from sklearn.base import BaseEstimator, TransformerMixin\n",
    "from sklearn.preprocessing import OrdinalEncoder, OneHotEncoder,FunctionTransformer\n",
    "from sklearn.pipeline import Pipeline\n",
    "from sklearn.compose import ColumnTransformer\n",
    "from sklearn.impute import SimpleImputer\n",
    "import pandas as pd\n",
    "from sklearn.ensemble import RandomForestRegressor\n",
    "from sklearn.model_selection import train_test_split\n",
    "from sklearn.metrics import mean_absolute_error,r2_score,mean_squared_error\n",
    "import numpy as np\n",
    "import joblib\n",
    "\n"
   ]
  },
  {
   "cell_type": "code",
   "execution_count": null,
   "metadata": {},
   "outputs": [
    {
     "data": {
      "text/plain": [
       "['ml_model.pkl']"
      ]
     },
     "execution_count": 3,
     "metadata": {},
     "output_type": "execute_result"
    }
   ],
   "source": [
    "import xgboost as xgb\n",
    "\n",
    "# Define columns\n",
    "num_cols = ['Age', 'Number of Dependents', 'Previous Claims', 'Health Score', \n",
    "            'Credit Score', 'Vehicle Age', 'Insurance Duration']\n",
    "cat_cols = ['Marital Status', 'Occupation', 'Customer Feedback']\n",
    "label_cols = ['Gender', 'Smoking Status']\n",
    "# Columns for one-hot encoding\n",
    "onehot_cols = ['Property Type',  'Education Level' , 'Location', 'Policy Type', 'Exercise Frequency']\n",
    "\n",
    "num_pipeline = Pipeline([\n",
    "    ('imputer', SimpleImputer(strategy='most_frequent')),\n",
    "    ('onehot',OneHotEncoder(sparse_output=False))\n",
    "])\n",
    "\n",
    "preprocessor = ColumnTransformer([\n",
    "    ('num', SimpleImputer(strategy='median'), num_cols),\n",
    "    ('cat',num_pipeline, cat_cols),\n",
    "    ('label', OrdinalEncoder(categories=[['Female', 'Male'], ['No', 'Yes']]), label_cols),\n",
    "    ('onehot', OneHotEncoder(handle_unknown='ignore',sparse_output=False), onehot_cols)\n",
    "], remainder='passthrough') \n",
    "\n",
    "# pipeline steps \n",
    "\n",
    "full_pipeline = Pipeline([\n",
    "    ('preprocessing', preprocessor),\n",
    "    ('model', RandomForestRegressor(n_estimators=100,max_depth=10,n_jobs=-1))\n",
    "])\n",
    "\n",
    "\n",
    "\n",
    "# full_pipeline = Pipeline([\n",
    "#     ('preprocessing', preprocessor),\n",
    "#     ('model', xgb.XGBRegressor(objective='reg:squarederror', n_estimators=40, learning_rate=0.1, max_depth=10))\n",
    "# ])\n"
   ]
  },
  {
   "cell_type": "markdown",
   "metadata": {},
   "source": [
    "### Spliting the dataset for train data and testing data"
   ]
  },
  {
   "cell_type": "code",
   "execution_count": null,
   "metadata": {},
   "outputs": [],
   "source": [
    "\n",
    "df=pd.read_csv(r\"C:\\Users\\MY Laptop\\Desktop\\guvi_class\\smart premium\\train.csv\")\n",
    "z = (df['Annual Income']-df['Annual Income'].mean())/df['Annual Income'].std()\n",
    "df['z score'] = z\n",
    "df = df[(df['z score']<=3) & (df['z score']>=-3)]\n",
    "df.drop(['Policy Start Date','id','z score'],axis=1,inplace=True)\n",
    "\n",
    "X=df.drop(['Premium Amount'],axis=1)\n",
    "y = df['Premium Amount']\n",
    "x_train,x_test,y_train,y_test = train_test_split(X,y,test_size=0.2)\n",
    "# Fit the pipeline\n",
    "full_pipeline.fit(x_train, y_train)\n"
   ]
  },
  {
   "cell_type": "code",
   "execution_count": 5,
   "metadata": {},
   "outputs": [
    {
     "data": {
      "text/plain": [
       "['ml_model.pkl']"
      ]
     },
     "execution_count": 5,
     "metadata": {},
     "output_type": "execute_result"
    }
   ],
   "source": [
    "joblib.dump(full_pipeline, \"ml_model.pkl\")"
   ]
  },
  {
   "cell_type": "code",
   "execution_count": 7,
   "metadata": {},
   "outputs": [],
   "source": [
    "test_df=pd.read_csv(r\"C:\\Users\\MY Laptop\\Desktop\\guvi_class\\smart premium\\test.csv\")\n",
    "model = joblib.load(\"ml_model.pkl\")\n",
    "test_df.drop(['Policy Start Date'],axis=1,inplace=True)\n",
    "ntrain_pred=model.predict(test_df)"
   ]
  },
  {
   "cell_type": "code",
   "execution_count": 8,
   "metadata": {},
   "outputs": [
    {
     "data": {
      "text/plain": [
       "array([1450.08614662, 1113.93031079, 1079.99863532, ..., 1081.32213977,\n",
       "       1107.57712864, 1067.40426537])"
      ]
     },
     "execution_count": 8,
     "metadata": {},
     "output_type": "execute_result"
    }
   ],
   "source": [
    "ntrain_pred"
   ]
  },
  {
   "cell_type": "code",
   "execution_count": null,
   "metadata": {},
   "outputs": [
    {
     "name": "stdout",
     "output_type": "stream",
     "text": [
      "**** # Evaluation *******\n",
      "MSE for Training Data : 634.4397761645677\n",
      "MSE for Test data: 636.7629809366913\n",
      "RMSE for training data 834.1867198647358\n",
      "RMSE for test data 838.5386809940351\n",
      "R2 score for train data: 0.05073267078714627\n",
      "R2 score for test data: 0.035966528545358756\n"
     ]
    }
   ],
   "source": [
    "\n",
    "# Predict\n",
    "train_pred=full_pipeline.predict(x_train)\n",
    "test_pred=full_pipeline.predict(x_test)\n",
    "\n",
    "\n",
    "print(f\"**** # Evaluation *******\")\n",
    "print(f\"MSE for Training Data : {mean_absolute_error(y_train,train_pred)}\")\n",
    "print(f\"MSE for Test data: {mean_absolute_error(y_test,test_pred)}\")\n",
    "\n",
    "print(\"RMSE for training data\", np.sqrt(mean_squared_error(y_train, train_pred)))\n",
    "print(\"RMSE for test data\", np.sqrt(mean_squared_error(y_test, test_pred)))\n",
    "\n",
    "print(f\"R2 score for train data: {r2_score(y_train,train_pred)}\")\n",
    "print(f\"R2 score for test data: {r2_score(y_test,test_pred)}\")\n"
   ]
  }
 ],
 "metadata": {
  "kernelspec": {
   "display_name": "base",
   "language": "python",
   "name": "python3"
  },
  "language_info": {
   "codemirror_mode": {
    "name": "ipython",
    "version": 3
   },
   "file_extension": ".py",
   "mimetype": "text/x-python",
   "name": "python",
   "nbconvert_exporter": "python",
   "pygments_lexer": "ipython3",
   "version": "3.12.7"
  }
 },
 "nbformat": 4,
 "nbformat_minor": 2
}

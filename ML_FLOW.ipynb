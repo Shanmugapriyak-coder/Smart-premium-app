{
 "cells": [
  {
   "cell_type": "code",
   "execution_count": null,
   "metadata": {},
   "outputs": [],
   "source": []
  },
  {
   "cell_type": "code",
   "execution_count": null,
   "metadata": {},
   "outputs": [],
   "source": [
    "import pandas as pd\n",
    "df=pd.read_csv(r\"C:\\Users\\MY Laptop\\Desktop\\guvi_class\\smart premium\\train.csv\")"
   ]
  },
  {
   "cell_type": "code",
   "execution_count": 2,
   "metadata": {},
   "outputs": [],
   "source": [
    "z = (df['Annual Income']-df['Annual Income'].mean())/df['Annual Income'].std()\n",
    "df['z score'] = z\n",
    "df = df[(df['z score']<=3) & (df['z score']>=-3)]\n",
    "\n",
    "df['Marital Status'] = df[['Marital Status']].fillna(df['Marital Status'].mode()[0])\n",
    "df['Age'] = df[['Age']].fillna(df['Age'].median())\n",
    "df['Number of Dependents'] = df[['Number of Dependents']].fillna(df['Number of Dependents'].median())\n",
    "df['Previous Claims'] = df[['Previous Claims']].fillna(df['Previous Claims'].median())\n",
    "df['Occupation'] = df[['Occupation']].fillna(df['Occupation'].mode()[0])\n",
    "df['Health Score'] = df[['Health Score']].fillna(df['Health Score'].median())\n",
    "df['Credit Score'] = df[['Credit Score']].fillna(df['Credit Score'].median())\n",
    "df['Customer Feedback'] = df[['Customer Feedback']].fillna(df['Customer Feedback'].mode()[0])\n",
    "df['Vehicle Age'] = df[['Vehicle Age']].fillna(df['Vehicle Age'].median())\n",
    "df['Insurance Duration'] = df[['Insurance Duration']].fillna(df['Insurance Duration'].median())\n"
   ]
  },
  {
   "cell_type": "code",
   "execution_count": null,
   "metadata": {},
   "outputs": [],
   "source": [
    "df['Gender']=df['Gender'].replace({'Female':0,'Male':1})\n",
    "df['Smoking Status']=df['Smoking Status'].replace({'No':0,'Yes':1})\n",
    "df=pd.get_dummies(df,columns=['Property Type',\n",
    "'Marital Status',\n",
    "'Education Level',\n",
    "'Occupation',\n",
    "'Location',\n",
    "'Policy Type',\n",
    "'Customer Feedback',\n",
    "'Exercise Frequency'],\n",
    "dtype='int')\n",
    "df.drop(['Policy Start Date'],axis=1,inplace=True)"
   ]
  },
  {
   "cell_type": "code",
   "execution_count": null,
   "metadata": {},
   "outputs": [],
   "source": [
    "from sklearn.model_selection import train_test_split\n",
    "from sklearn.linear_model import LinearRegression\n",
    "from sklearn.tree import DecisionTreeRegressor\n",
    "from sklearn.ensemble import RandomForestRegressor\n",
    "from sklearn.metrics import mean_squared_error,r2_score,mean_absolute_error\n",
    "X=df.drop(['Premium Amount'],axis=1)\n",
    "# X.isna().sum()\n",
    "y=df['Premium Amount']\n",
    "x_train,x_test,y_train,y_test = train_test_split(X,y,test_size=0.2)"
   ]
  },
  {
   "cell_type": "code",
   "execution_count": 5,
   "metadata": {},
   "outputs": [],
   "source": [
    "# params={\n",
    "#     \"n_estimators\":25,\n",
    "#     \"max_depth\":10,\n",
    "#     \"n_jobs\":-1,\n",
    "# }\n",
    "# import mlflow\n",
    "# mlflow.set_experiment('First exp')\n",
    "# mlflow.set_tracking_uri(\"http://127.0.0.1:5000\")\n",
    "\n",
    "# with mlflow.start_run():\n",
    "#     mlflow.log_params(params)\n",
    "#     mlflow.log_metric('r2',r2_score(y_test,test_pred))\n",
    "#     mlflow.sklearn.log_model(model,\"Random Forest Regressor\")"
   ]
  },
  {
   "cell_type": "code",
   "execution_count": 7,
   "metadata": {},
   "outputs": [],
   "source": [
    "import xgboost as xgb\n",
    "models=[(\n",
    "    \"RandomForestRegressor\",\n",
    "    {\"n_estimators\":40,\"max_depth\":5,\"n_jobs\":-1},\n",
    "    RandomForestRegressor(),\n",
    "    (x_train,y_train),\n",
    "    (x_test,y_test)\n",
    "    \n",
    "),\n",
    "(\n",
    "    \"XGBRegressor\",\n",
    "    {'objective':'reg:squarederror',\"n_estimators\":40,\"max_depth\":5,\"n_jobs\":-1},\n",
    "    xgb.XGBRegressor(),\n",
    "    (x_train,y_train),\n",
    "    (x_test,y_test)\n",
    "\n",
    "),\n",
    "(\n",
    "    \"LinearRegression\",\n",
    "    {},\n",
    "    LinearRegression(),\n",
    "    (x_train,y_train),\n",
    "    (x_test,y_test)\n",
    "\n",
    "),\n",
    "(\n",
    "    \"DecisionTreeRegressor\",\n",
    "    {},\n",
    "    DecisionTreeRegressor(),\n",
    "    (x_train,y_train),\n",
    "    (x_test,y_test)\n",
    "\n",
    ")\n",
    "]"
   ]
  },
  {
   "cell_type": "code",
   "execution_count": 8,
   "metadata": {},
   "outputs": [],
   "source": [
    "import numpy as np\n",
    "reports=[]\n",
    "for model_name,params,model,train_set,test_set in models:\n",
    "    x_train=train_set[0]\n",
    "    y_train=train_set[1]\n",
    "    x_test=test_set[0]\n",
    "    y_test=test_set[1]\n",
    "\n",
    "    model.set_params(**params)\n",
    "    model.fit(x_train,y_train)\n",
    "    y_pred=model.predict(x_test)\n",
    "\n",
    "    rmse=np.sqrt(mean_squared_error(y_test, y_pred))\n",
    "    mae=mean_absolute_error(y_test,y_pred)\n",
    "    r2=r2_score(y_train,train_pred)\n",
    "    reports.append((model_name,rmse,mae,r2))"
   ]
  },
  {
   "cell_type": "code",
   "execution_count": null,
   "metadata": {},
   "outputs": [
    {
     "name": "stderr",
     "output_type": "stream",
     "text": [
      "2025/03/30 13:17:06 WARNING mlflow.utils.environment: Encountered an unexpected error while inferring pip requirements (model URI: C:\\Users\\MYLAPT~1\\AppData\\Local\\Temp\\tmp9jt3j8q0\\model\\model.pkl, flavor: sklearn). Fall back to return ['scikit-learn==1.5.1', 'cloudpickle==3.0.0']. Set logging level to DEBUG to see the full traceback. \n",
      "2025/03/30 13:17:09 WARNING mlflow.models.model: Model logged without a signature and input example. Please set `input_example` parameter when logging the model to auto infer the model signature.\n"
     ]
    },
    {
     "name": "stdout",
     "output_type": "stream",
     "text": [
      "🏃 View run RandomForestRegressor at: http://127.0.0.1:5000/#/experiments/844570940081017207/runs/0a120587c6ea4ec1832410492c863ea1\n",
      "🧪 View experiment at: http://127.0.0.1:5000/#/experiments/844570940081017207\n"
     ]
    },
    {
     "name": "stderr",
     "output_type": "stream",
     "text": [
      "C:\\Users\\MY Laptop\\AppData\\Roaming\\Python\\Python312\\site-packages\\xgboost\\sklearn.py:1028: UserWarning: [13:17:28] WARNING: C:\\actions-runner\\_work\\xgboost\\xgboost\\src\\c_api\\c_api.cc:1427: Saving model in the UBJSON format as default.  You can use file extension: `json`, `ubj` or `deprecated` to choose between formats.\n",
      "  self.get_booster().save_model(fname)\n",
      "2025/03/30 13:19:41 WARNING mlflow.utils.environment: Encountered an unexpected error while inferring pip requirements (model URI: C:\\Users\\MYLAPT~1\\AppData\\Local\\Temp\\tmpoft729jp\\model, flavor: xgboost). Fall back to return ['xgboost==3.0.0']. Set logging level to DEBUG to see the full traceback. \n",
      "2025/03/30 13:19:41 WARNING mlflow.models.model: Model logged without a signature and input example. Please set `input_example` parameter when logging the model to auto infer the model signature.\n"
     ]
    },
    {
     "name": "stdout",
     "output_type": "stream",
     "text": [
      "🏃 View run XGBRegressor at: http://127.0.0.1:5000/#/experiments/844570940081017207/runs/d4117223b59e44ada2803237d4e9bcab\n",
      "🧪 View experiment at: http://127.0.0.1:5000/#/experiments/844570940081017207\n"
     ]
    },
    {
     "name": "stderr",
     "output_type": "stream",
     "text": [
      "2025/03/30 13:20:41 WARNING mlflow.models.model: Model logged without a signature and input example. Please set `input_example` parameter when logging the model to auto infer the model signature.\n"
     ]
    },
    {
     "name": "stdout",
     "output_type": "stream",
     "text": [
      "🏃 View run LinearRegression at: http://127.0.0.1:5000/#/experiments/844570940081017207/runs/102b41281abd4af681ff8ccb004268f3\n",
      "🧪 View experiment at: http://127.0.0.1:5000/#/experiments/844570940081017207\n"
     ]
    },
    {
     "name": "stderr",
     "output_type": "stream",
     "text": [
      "2025/03/30 13:23:04 WARNING mlflow.utils.environment: Encountered an unexpected error while inferring pip requirements (model URI: C:\\Users\\MYLAPT~1\\AppData\\Local\\Temp\\tmp5qbisufx\\model\\model.pkl, flavor: sklearn). Fall back to return ['scikit-learn==1.5.1', 'cloudpickle==3.0.0']. Set logging level to DEBUG to see the full traceback. \n",
      "2025/03/30 13:23:05 WARNING mlflow.models.model: Model logged without a signature and input example. Please set `input_example` parameter when logging the model to auto infer the model signature.\n"
     ]
    },
    {
     "name": "stdout",
     "output_type": "stream",
     "text": [
      "🏃 View run DecisionTreeRegressor at: http://127.0.0.1:5000/#/experiments/844570940081017207/runs/34e328d516e54de89365d63ac73dd495\n",
      "🧪 View experiment at: http://127.0.0.1:5000/#/experiments/844570940081017207\n"
     ]
    }
   ],
   "source": [
    "import mlflow\n",
    "mlflow.set_experiment('first  experiment')\n",
    "mlflow.set_tracking_uri(\"http://127.0.0.1:5000\")\n",
    "for i,element in  enumerate(models):\n",
    "    model_name=element[0]\n",
    "    params=element[1]\n",
    "    model=element[2]\n",
    "    report=reports[i]\n",
    "    \n",
    "    with mlflow.start_run(run_name=model_name):\n",
    "        mlflow.log_params(params)\n",
    "        mlflow.log_metric('RMSE':report[1])\n",
    "        mlflow.log_metric('MAE':report[2])\n",
    "        mlflow.log_metric('R2':report[3])\n",
    "\n",
    "        if 'XGBRegressor' in model_name:\n",
    "             mlflow.xgboost.log_model(model,\"model\")\n",
    "        else :\n",
    "             mlflow.sklearn.log_model(model,\"model\")\n",
    "    \n",
    "    "
   ]
  }
 ],
 "metadata": {
  "kernelspec": {
   "display_name": "base",
   "language": "python",
   "name": "python3"
  },
  "language_info": {
   "codemirror_mode": {
    "name": "ipython",
    "version": 3
   },
   "file_extension": ".py",
   "mimetype": "text/x-python",
   "name": "python",
   "nbconvert_exporter": "python",
   "pygments_lexer": "ipython3",
   "version": "3.12.7"
  }
 },
 "nbformat": 4,
 "nbformat_minor": 2
}

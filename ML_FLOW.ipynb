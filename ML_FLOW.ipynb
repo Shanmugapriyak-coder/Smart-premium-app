{
 "cells": [
  {
   "cell_type": "code",
   "execution_count": 1,
   "metadata": {},
   "outputs": [],
   "source": [
    "import pandas as pd\n",
    "df=pd.read_csv(r\"C:\\Users\\MY Laptop\\Desktop\\guvi_class\\smart premium\\train.csv\")"
   ]
  },
  {
   "cell_type": "code",
   "execution_count": 2,
   "metadata": {},
   "outputs": [],
   "source": [
    "\n",
    "df['Marital Status']=df[['Marital Status']].fillna(df['Marital Status'].mode()[0])\n",
    "df['Age'] = df[['Age']].fillna(df['Age'].median())\n",
    "df['Number of Dependents'] = df[['Number of Dependents']].fillna(df['Number of Dependents'].median())\n",
    "df['Previous Claims'] = df[['Previous Claims']].fillna(df['Previous Claims'].median())\n",
    "df['Occupation'] = df[['Occupation']].fillna(df['Occupation'].mode()[0])\n",
    "df['Health Score'] = df[['Health Score']].fillna(df['Health Score'].median())\n",
    "df['Credit Score'] = df[['Credit Score']].fillna(df['Credit Score'].median())\n",
    "df['Customer Feedback'] = df[['Customer Feedback']].fillna(df['Customer Feedback'].mode()[0])\n",
    "df['Vehicle Age'] = df[['Vehicle Age']].fillna(df['Vehicle Age'].median())\n",
    "df['Insurance Duration'] = df[['Insurance Duration']].fillna(df['Insurance Duration'].median())\n",
    "df['Annual Income'] = df[['Annual Income']].fillna(df['Annual Income'].median())"
   ]
  },
  {
   "cell_type": "code",
   "execution_count": 3,
   "metadata": {},
   "outputs": [
    {
     "name": "stderr",
     "output_type": "stream",
     "text": [
      "C:\\Users\\MY Laptop\\AppData\\Local\\Temp\\ipykernel_7340\\1217611785.py:3: FutureWarning: Downcasting behavior in `replace` is deprecated and will be removed in a future version. To retain the old behavior, explicitly call `result.infer_objects(copy=False)`. To opt-in to the future behavior, set `pd.set_option('future.no_silent_downcasting', True)`\n",
      "  df['Customer Feedback']=df['Customer Feedback'].replace({'Poor':0,'Average':1 , 'Good':2})\n",
      "C:\\Users\\MY Laptop\\AppData\\Local\\Temp\\ipykernel_7340\\1217611785.py:4: FutureWarning: Downcasting behavior in `replace` is deprecated and will be removed in a future version. To retain the old behavior, explicitly call `result.infer_objects(copy=False)`. To opt-in to the future behavior, set `pd.set_option('future.no_silent_downcasting', True)`\n",
      "  df['Exercise Frequency']=df['Exercise Frequency'].replace({'Rarely':0,'Monthly':1 ,'Weekly':2 ,'Daily':3})\n",
      "C:\\Users\\MY Laptop\\AppData\\Local\\Temp\\ipykernel_7340\\1217611785.py:5: FutureWarning: Downcasting behavior in `replace` is deprecated and will be removed in a future version. To retain the old behavior, explicitly call `result.infer_objects(copy=False)`. To opt-in to the future behavior, set `pd.set_option('future.no_silent_downcasting', True)`\n",
      "  df['Location']=df['Location'].replace({'Rural':0,'Suburban':1 , 'Urban':2})\n",
      "C:\\Users\\MY Laptop\\AppData\\Local\\Temp\\ipykernel_7340\\1217611785.py:6: FutureWarning: Downcasting behavior in `replace` is deprecated and will be removed in a future version. To retain the old behavior, explicitly call `result.infer_objects(copy=False)`. To opt-in to the future behavior, set `pd.set_option('future.no_silent_downcasting', True)`\n",
      "  df['Education Level']=df['Education Level'].replace({'High School': 0,\"Bachelor's\":1 ,\"Master's\":2, 'PhD':3})\n",
      "C:\\Users\\MY Laptop\\AppData\\Local\\Temp\\ipykernel_7340\\1217611785.py:7: FutureWarning: Downcasting behavior in `replace` is deprecated and will be removed in a future version. To retain the old behavior, explicitly call `result.infer_objects(copy=False)`. To opt-in to the future behavior, set `pd.set_option('future.no_silent_downcasting', True)`\n",
      "  df['Smoking Status']=df['Smoking Status'].replace({'No':0,'Yes':1})\n",
      "C:\\Users\\MY Laptop\\AppData\\Local\\Temp\\ipykernel_7340\\1217611785.py:8: FutureWarning: Downcasting behavior in `replace` is deprecated and will be removed in a future version. To retain the old behavior, explicitly call `result.infer_objects(copy=False)`. To opt-in to the future behavior, set `pd.set_option('future.no_silent_downcasting', True)`\n",
      "  df['Policy Type']=df['Policy Type'].replace({'Basic':0,'Comprehensive':1,'Premium':2})\n"
     ]
    }
   ],
   "source": [
    "nominal_data=['Property Type','Marital Status','Gender','Occupation'] #OHC\n",
    "ordinal_data=['Education Level', 'Location','Policy Type','Customer Feedback','Exercise Frequency','Smoking Status']\n",
    "df['Customer Feedback']=df['Customer Feedback'].replace({'Poor':0,'Average':1 , 'Good':2})\n",
    "df['Exercise Frequency']=df['Exercise Frequency'].replace({'Rarely':0,'Monthly':1 ,'Weekly':2 ,'Daily':3})\n",
    "df['Location']=df['Location'].replace({'Rural':0,'Suburban':1 , 'Urban':2})\n",
    "df['Education Level']=df['Education Level'].replace({'High School': 0,\"Bachelor's\":1 ,\"Master's\":2, 'PhD':3})\n",
    "df['Smoking Status']=df['Smoking Status'].replace({'No':0,'Yes':1})\n",
    "df['Policy Type']=df['Policy Type'].replace({'Basic':0,'Comprehensive':1,'Premium':2})\n",
    "df=pd.get_dummies(df,columns=nominal_data,dtype='int')\n",
    "df.drop(['Policy Start Date','id'],axis=1,inplace=True)\n"
   ]
  },
  {
   "cell_type": "code",
   "execution_count": 4,
   "metadata": {},
   "outputs": [],
   "source": [
    "import numpy as np\n",
    "outliers=['Annual Income','Previous Claims', 'Premium Amount']\n",
    "for col in outliers:\n",
    "\n",
    "    Q1 = df[col].quantile(0.25)  # 25th percentile\n",
    "    Q3 = df[col].quantile(0.75)  # 75th percentile\n",
    "    IQR = Q3 - Q1  # Interquartile range\n",
    "\n",
    "    # Define lower and upper bound\n",
    "    lower_bound = Q1 - 1.5 * IQR\n",
    "    upper_bound = Q3 + 1.5 * IQR\n",
    "\n",
    "    # Cap values at lower and upper bound\n",
    "    df[col] = np.where(df[col] < lower_bound, lower_bound, df[col])\n",
    "    df[col] = np.where(df[col] > upper_bound, upper_bound, df[col])"
   ]
  },
  {
   "cell_type": "code",
   "execution_count": 5,
   "metadata": {},
   "outputs": [],
   "source": [
    "from sklearn.preprocessing import PowerTransformer\n",
    "pt = PowerTransformer(method='yeo-johnson')\n",
    "df['Annual Income'] = pt.fit_transform(df[['Annual Income']])"
   ]
  },
  {
   "cell_type": "code",
   "execution_count": 6,
   "metadata": {},
   "outputs": [],
   "source": [
    "from sklearn.model_selection import train_test_split\n",
    "from sklearn.linear_model import LinearRegression\n",
    "from sklearn.tree import DecisionTreeRegressor\n",
    "from sklearn.ensemble import RandomForestRegressor\n",
    "from sklearn.metrics import mean_absolute_error,r2_score,mean_squared_error\n",
    "import numpy as np\n",
    "from xgboost import XGBRegressor\n",
    "X=df.drop(['Premium Amount'],axis=1)\n",
    "# X.isna().sum()\n",
    "y=df['Premium Amount']\n",
    "x_train,x_test,y_train,y_test = train_test_split(X,y,test_size=0.2)\n",
    "x_train = x_train.to_numpy()\n",
    "x_test = x_test.to_numpy()"
   ]
  },
  {
   "cell_type": "code",
   "execution_count": null,
   "metadata": {},
   "outputs": [],
   "source": [
    "# single register model in mlflow\n",
    "params={\n",
    "    \"n_estimators\":25,\n",
    "    \"max_depth\":10,\n",
    "    \"n_jobs\":-1,\n",
    "}\n",
    "# import mlflow\n",
    "mlflow.set_experiment('First exp')\n",
    "mlflow.set_tracking_uri(\"http://127.0.0.1:5000\")\n",
    "\n",
    "with mlflow.start_run():\n",
    "    mlflow.log_params(params)\n",
    "    mlflow.log_metric('r2',r2_score(y_test,test_pred))\n",
    "    mlflow.sklearn.log_model(model,\"Random Forest Regressor\")"
   ]
  },
  {
   "cell_type": "markdown",
   "metadata": {},
   "source": [
    "## multiple model register in mlflow "
   ]
  },
  {
   "cell_type": "code",
   "execution_count": 7,
   "metadata": {},
   "outputs": [],
   "source": [
    "import xgboost as xgb\n",
    "models=[(\n",
    "    \"RandomForestRegressor\",\n",
    "    {\"n_estimators\":40,\"max_depth\":5,\"n_jobs\":-1},\n",
    "    RandomForestRegressor(),\n",
    "    (x_train,y_train),\n",
    "    (x_test,y_test)\n",
    "    \n",
    "),\n",
    "(\n",
    "    \"XGBRegressor\",\n",
    "    {'objective':'reg:squarederror',\"n_estimators\":50,\"max_depth\":5,\"n_jobs\":-1, \"learning_rate\" :0.1},\n",
    "    xgb.XGBRegressor(),\n",
    "    (x_train,y_train),\n",
    "    (x_test,y_test)\n",
    "\n",
    "),\n",
    "(\n",
    "    \"LinearRegression\",\n",
    "    {},\n",
    "    LinearRegression(),\n",
    "    (x_train,y_train),\n",
    "    (x_test,y_test)\n",
    "\n",
    "),\n",
    "(\n",
    "    \"DecisionTreeRegressor\",\n",
    "    {},\n",
    "    DecisionTreeRegressor(),\n",
    "    (x_train,y_train),\n",
    "    (x_test,y_test)\n",
    "\n",
    ")\n",
    "]"
   ]
  },
  {
   "cell_type": "code",
   "execution_count": 9,
   "metadata": {},
   "outputs": [],
   "source": [
    "import numpy as np\n",
    "reports=[]\n",
    "for model_name,params,model,train_set,test_set in models:\n",
    "    x_train=train_set[0]\n",
    "    y_train=train_set[1]\n",
    "    x_test=test_set[0]\n",
    "    y_test=test_set[1]\n",
    "\n",
    "    model.set_params(**params)\n",
    "    model.fit(x_train,y_train)\n",
    "    y_pred=model.predict(x_test)\n",
    "\n",
    "    rmse=np.sqrt(mean_squared_error(y_test, y_pred))\n",
    "    mae=mean_absolute_error(y_test,y_pred)\n",
    "    r2=r2_score(y_test,y_pred)\n",
    "    reports.append((model_name,rmse,mae,r2))"
   ]
  },
  {
   "cell_type": "code",
   "execution_count": 15,
   "metadata": {},
   "outputs": [
    {
     "name": "stderr",
     "output_type": "stream",
     "text": [
      "2025/04/13 23:23:37 INFO mlflow.tracking.fluent: Experiment with name 'second experiment' does not exist. Creating a new experiment.\n",
      "2025/04/13 23:29:06 WARNING mlflow.utils.environment: Encountered an unexpected error while inferring pip requirements (model URI: C:\\Users\\MYLAPT~1\\AppData\\Local\\Temp\\tmpazuowe1f\\model\\model.pkl, flavor: sklearn). Fall back to return ['scikit-learn==1.5.1', 'cloudpickle==3.0.0']. Set logging level to DEBUG to see the full traceback. \n",
      "2025/04/13 23:29:06 WARNING mlflow.models.model: Model logged without a signature and input example. Please set `input_example` parameter when logging the model to auto infer the model signature.\n"
     ]
    },
    {
     "name": "stdout",
     "output_type": "stream",
     "text": [
      "🏃 View run RandomForestRegressor at: http://127.0.0.1:5000/#/experiments/565843742065028286/runs/61386c089fe14f5092500e4d5d738d8c\n",
      "🧪 View experiment at: http://127.0.0.1:5000/#/experiments/565843742065028286\n"
     ]
    },
    {
     "name": "stderr",
     "output_type": "stream",
     "text": [
      "C:\\Users\\MY Laptop\\AppData\\Roaming\\Python\\Python312\\site-packages\\xgboost\\sklearn.py:1028: UserWarning: [23:29:19] WARNING: C:\\actions-runner\\_work\\xgboost\\xgboost\\src\\c_api\\c_api.cc:1427: Saving model in the UBJSON format as default.  You can use file extension: `json`, `ubj` or `deprecated` to choose between formats.\n",
      "  self.get_booster().save_model(fname)\n",
      "2025/04/13 23:30:32 WARNING mlflow.models.model: Model logged without a signature and input example. Please set `input_example` parameter when logging the model to auto infer the model signature.\n"
     ]
    },
    {
     "name": "stdout",
     "output_type": "stream",
     "text": [
      "🏃 View run XGBRegressor at: http://127.0.0.1:5000/#/experiments/565843742065028286/runs/dd6525c5a3594ca2ba5d10d375e72710\n",
      "🧪 View experiment at: http://127.0.0.1:5000/#/experiments/565843742065028286\n"
     ]
    },
    {
     "name": "stderr",
     "output_type": "stream",
     "text": [
      "2025/04/13 23:30:52 WARNING mlflow.models.model: Model logged without a signature and input example. Please set `input_example` parameter when logging the model to auto infer the model signature.\n"
     ]
    },
    {
     "name": "stdout",
     "output_type": "stream",
     "text": [
      "🏃 View run LinearRegression at: http://127.0.0.1:5000/#/experiments/565843742065028286/runs/1eb17a290ae14c9cafd641091d124189\n",
      "🧪 View experiment at: http://127.0.0.1:5000/#/experiments/565843742065028286\n"
     ]
    },
    {
     "name": "stderr",
     "output_type": "stream",
     "text": [
      "2025/04/13 23:31:14 WARNING mlflow.models.model: Model logged without a signature and input example. Please set `input_example` parameter when logging the model to auto infer the model signature.\n"
     ]
    },
    {
     "name": "stdout",
     "output_type": "stream",
     "text": [
      "🏃 View run DecisionTreeRegressor at: http://127.0.0.1:5000/#/experiments/565843742065028286/runs/d8b6d7042bae4bf9877558e010277c79\n",
      "🧪 View experiment at: http://127.0.0.1:5000/#/experiments/565843742065028286\n"
     ]
    }
   ],
   "source": [
    "import mlflow\n",
    "mlflow.set_experiment('second experiment')\n",
    "mlflow.set_tracking_uri(\"http://127.0.0.1:5000\")\n",
    "for i,element in  enumerate(models):\n",
    "    model_name=element[0]\n",
    "    params=element[1]\n",
    "    model=element[2]\n",
    "    report=reports[i]\n",
    "    \n",
    "    with mlflow.start_run(run_name=model_name):\n",
    "        mlflow.log_params(params)\n",
    "        mlflow.log_metric('RMSE',report[1])\n",
    "        mlflow.log_metric('MAE',report[2])\n",
    "        mlflow.log_metric('R2',report[3])\n",
    "\n",
    "        if 'XGBRegressor' in model_name:\n",
    "             mlflow.xgboost.log_model(model,\"model\")\n",
    "        else :\n",
    "             mlflow.sklearn.log_model(model,\"model\")\n",
    "    \n",
    "    "
   ]
  }
 ],
 "metadata": {
  "kernelspec": {
   "display_name": "base",
   "language": "python",
   "name": "python3"
  },
  "language_info": {
   "codemirror_mode": {
    "name": "ipython",
    "version": 3
   },
   "file_extension": ".py",
   "mimetype": "text/x-python",
   "name": "python",
   "nbconvert_exporter": "python",
   "pygments_lexer": "ipython3",
   "version": "3.12.7"
  }
 },
 "nbformat": 4,
 "nbformat_minor": 2
}

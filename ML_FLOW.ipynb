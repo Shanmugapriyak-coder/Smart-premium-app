{
 "cells": [
  {
   "cell_type": "code",
   "execution_count": 1,
   "metadata": {},
   "outputs": [],
   "source": [
    "import pandas as pd\n",
    "df=pd.read_csv(r\"C:\\Users\\MY Laptop\\Desktop\\guvi_class\\smart premium\\train.csv\")"
   ]
  },
  {
   "cell_type": "code",
   "execution_count": null,
   "metadata": {},
   "outputs": [],
   "source": []
  },
  {
   "cell_type": "code",
   "execution_count": null,
   "metadata": {},
   "outputs": [],
   "source": []
  },
  {
   "cell_type": "code",
   "execution_count": 2,
   "metadata": {},
   "outputs": [],
   "source": [
    "z = (df['Annual Income']-df['Annual Income'].mean())/df['Annual Income'].std()\n",
    "df['z score'] = z\n",
    "df = df[(df['z score']<=3) & (df['z score']>=-3)]\n",
    "\n",
    "df['Marital Status'] = df[['Marital Status']].fillna(df['Marital Status'].mode()[0])\n",
    "df['Age'] = df[['Age']].fillna(df['Age'].median())\n",
    "df['Number of Dependents'] = df[['Number of Dependents']].fillna(df['Number of Dependents'].median())\n",
    "df['Previous Claims'] = df[['Previous Claims']].fillna(df['Previous Claims'].median())\n",
    "df['Occupation'] = df[['Occupation']].fillna(df['Occupation'].mode()[0])\n",
    "df['Health Score'] = df[['Health Score']].fillna(df['Health Score'].median())\n",
    "df['Credit Score'] = df[['Credit Score']].fillna(df['Credit Score'].median())\n",
    "df['Customer Feedback'] = df[['Customer Feedback']].fillna(df['Customer Feedback'].mode()[0])\n",
    "df['Vehicle Age'] = df[['Vehicle Age']].fillna(df['Vehicle Age'].median())\n",
    "df['Insurance Duration'] = df[['Insurance Duration']].fillna(df['Insurance Duration'].median())\n"
   ]
  },
  {
   "cell_type": "code",
   "execution_count": 3,
   "metadata": {},
   "outputs": [
    {
     "name": "stderr",
     "output_type": "stream",
     "text": [
      "C:\\Users\\MY Laptop\\AppData\\Local\\Temp\\ipykernel_768\\1820627286.py:1: FutureWarning: Downcasting behavior in `replace` is deprecated and will be removed in a future version. To retain the old behavior, explicitly call `result.infer_objects(copy=False)`. To opt-in to the future behavior, set `pd.set_option('future.no_silent_downcasting', True)`\n",
      "  df['Gender']=df['Gender'].replace({'Female':0,'Male':1})\n",
      "C:\\Users\\MY Laptop\\AppData\\Local\\Temp\\ipykernel_768\\1820627286.py:8: FutureWarning: Downcasting behavior in `replace` is deprecated and will be removed in a future version. To retain the old behavior, explicitly call `result.infer_objects(copy=False)`. To opt-in to the future behavior, set `pd.set_option('future.no_silent_downcasting', True)`\n",
      "  df['Smoking Status']=df['Smoking Status'].replace({'No':0,'Yes':1})\n"
     ]
    }
   ],
   "source": [
    "df['Gender']=df['Gender'].replace({'Female':0,'Male':1})\n",
    "# df['Marital Status']=df['Marital Status'].replace({'Married':0, 'Divorced':1, 'Single':2})\n",
    "# df['Education Level']=df['Education Level'].replace({'High School':0, \"Bachelor's\":1, \"Master's\":2, 'PhD':3})\n",
    "# df['Occupation']=df['Occupation'].replace({'Unemployed':0, 'Employed':1, 'Self-Employed':2})\n",
    "# df['Location']=df['Location'].replace({'Rural':0, 'Suburban':1, 'Urban':2})\n",
    "# df['Policy Type']=df['Policy Type'].replace({'Basic':0, 'Comprehensive':1, 'Premium':2})\n",
    "# df['Customer Feedback']=df['Customer Feedback'].replace({'Poor':0, 'Average':1, 'Good':2})\n",
    "df['Smoking Status']=df['Smoking Status'].replace({'No':0,'Yes':1})\n",
    "# df['Exercise Frequency']=df['Exercise Frequency'].replace({'Rarely':0, 'Monthly':1, 'Weekly':2, 'Daily':3})\n",
    "df=pd.get_dummies(df,columns=['Property Type',\n",
    "'Marital Status',\n",
    "'Education Level',\n",
    "'Occupation',\n",
    "'Location',\n",
    "'Policy Type',\n",
    "'Customer Feedback',\n",
    "'Exercise Frequency'],\n",
    "dtype='int')\n",
    "df.drop(['Policy Start Date'],axis=1,inplace=True)"
   ]
  },
  {
   "cell_type": "code",
   "execution_count": 12,
   "metadata": {},
   "outputs": [
    {
     "name": "stdout",
     "output_type": "stream",
     "text": [
      "****RandomForestRegressor*******\n",
      "MSE for Training Data : 713983.4127589157\n",
      "MSE for Test data: 716798.32108233\n",
      "R2 score for train data: 0.02420764206786241\n",
      "R2 score for test data: 0.0245505353496287\n"
     ]
    }
   ],
   "source": [
    "from sklearn.model_selection import train_test_split\n",
    "from sklearn.linear_model import LinearRegression\n",
    "from sklearn.tree import DecisionTreeRegressor\n",
    "from sklearn.ensemble import RandomForestRegressor\n",
    "from sklearn.metrics import mean_squared_error,r2_score\n",
    "X=df.drop(['Premium Amount'],axis=1)\n",
    "# X.isna().sum()\n",
    "y=df['Premium Amount']\n",
    "x_train,x_test,y_train,y_test = train_test_split(X,y,test_size=0.2)\n",
    "model=RandomForestRegressor(n_estimators=100,max_depth=5,n_jobs=-1)\n",
    "# LinearRegression(),DecisionTreeRegressor(),RandomForestRegressor()\n",
    "\n",
    "model.fit(x_train,y_train)\n",
    "train_pred=model.predict(x_train)\n",
    "test_pred=model.predict(x_test)\n",
    "print(f\"****{type(model).__name__}*******\")\n",
    "print(f\"MSE for Training Data : {mean_squared_error(y_train,train_pred)}\")\n",
    "print(f\"MSE for Test data: {mean_squared_error(y_test,test_pred)}\")\n",
    "\n",
    "print(f\"R2 score for train data: {r2_score(y_train,train_pred)}\")\n",
    "print(f\"R2 score for test data: {r2_score(y_test,test_pred)}\")\n"
   ]
  },
  {
   "cell_type": "code",
   "execution_count": 10,
   "metadata": {},
   "outputs": [
    {
     "name": "stderr",
     "output_type": "stream",
     "text": [
      "2025/03/26 19:42:33 WARNING mlflow.models.model: Model logged without a signature and input example. Please set `input_example` parameter when logging the model to auto infer the model signature.\n"
     ]
    },
    {
     "name": "stdout",
     "output_type": "stream",
     "text": [
      "🏃 View run lyrical-mare-77 at: http://127.0.0.1:5000/#/experiments/947840022458279321/runs/7a324aae90794c43b57383e29925eb4e\n",
      "🧪 View experiment at: http://127.0.0.1:5000/#/experiments/947840022458279321\n"
     ]
    }
   ],
   "source": [
    "params={\n",
    "    \"n_estimators\":25,\n",
    "    \"max_depth\":10,\n",
    "    \"n_jobs\":-1,\n",
    "}\n",
    "import mlflow\n",
    "mlflow.set_experiment('First exp')\n",
    "mlflow.set_tracking_uri(\"http://127.0.0.1:5000\")\n",
    "\n",
    "with mlflow.start_run():\n",
    "    mlflow.log_params(params)\n",
    "    mlflow.log_metric('r2',r2_score(y_test,test_pred))\n",
    "    mlflow.sklearn.log_model(model,\"Random Forest Regressor\")"
   ]
  }
 ],
 "metadata": {
  "kernelspec": {
   "display_name": "base",
   "language": "python",
   "name": "python3"
  },
  "language_info": {
   "codemirror_mode": {
    "name": "ipython",
    "version": 3
   },
   "file_extension": ".py",
   "mimetype": "text/x-python",
   "name": "python",
   "nbconvert_exporter": "python",
   "pygments_lexer": "ipython3",
   "version": "3.12.7"
  }
 },
 "nbformat": 4,
 "nbformat_minor": 2
}
